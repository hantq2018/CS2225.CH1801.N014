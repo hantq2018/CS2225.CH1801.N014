{
  "nbformat": 4,
  "nbformat_minor": 0,
  "metadata": {
    "colab": {
      "name": "Code VRA.ipynb",
      "provenance": [],
      "collapsed_sections": [],
      "toc_visible": true,
      "authorship_tag": "ABX9TyNGTxdBj0DbUtnz6chUnIWZ",
      "include_colab_link": true
    },
    "kernelspec": {
      "name": "python3",
      "display_name": "Python 3"
    }
  },
  "cells": [
    {
      "cell_type": "markdown",
      "metadata": {
        "id": "view-in-github",
        "colab_type": "text"
      },
      "source": [
        "<a href=\"https://colab.research.google.com/github/nhabt-uit/CS2225.CH1801.N014/blob/NhaBT/Code_VRA.ipynb\" target=\"_parent\"><img src=\"https://colab.research.google.com/assets/colab-badge.svg\" alt=\"Open In Colab\"/></a>"
      ]
    },
    {
      "cell_type": "code",
      "metadata": {
        "id": "Jxno19cn3CQB",
        "colab_type": "code",
        "colab": {}
      },
      "source": [
        "from google.colab import drive\n",
        "drive.mount('/gdrive')\n",
        "%cd /gdrive"
      ],
      "execution_count": null,
      "outputs": []
    },
    {
      "cell_type": "markdown",
      "metadata": {
        "id": "zdwVWGsSAbx9",
        "colab_type": "text"
      },
      "source": [
        "**Loading the image using OpenCV**"
      ]
    },
    {
      "cell_type": "code",
      "metadata": {
        "id": "aNx-0XVFJVEm",
        "colab_type": "code",
        "colab": {}
      },
      "source": [
        "import cv2\n",
        "from google.colab.patches import cv2_imshow\n",
        "\n",
        "image = cv2.imread('/gdrive/My Drive/VRA - Self Driving Cars/test_image.jpg', cv2.IMREAD_UNCHANGED)\n",
        "cv2_imshow(image)\n",
        "cv2.waitKey(0)\n",
        "cv2.destroyAllWindows()"
      ],
      "execution_count": null,
      "outputs": []
    },
    {
      "cell_type": "markdown",
      "metadata": {
        "id": "EyBQAyw4AkBW",
        "colab_type": "text"
      },
      "source": [
        "**Converting the image into grayscale**"
      ]
    },
    {
      "cell_type": "code",
      "metadata": {
        "id": "4O9ariqs-b2S",
        "colab_type": "code",
        "colab": {}
      },
      "source": [
        "import cv2\n",
        "import numpy as np\n",
        "from google.colab.patches import cv2_imshow\n",
        "\n",
        "image = cv2.imread('/gdrive/My Drive/VRA - Self Driving Cars/test_image.jpg', cv2.IMREAD_UNCHANGED)\n",
        "lanelines_image = np.copy(image)\n",
        "gray_conversion = cv2.cvtColor(lanelines_image, cv2.COLOR_RGB2GRAY)\n",
        "cv2_imshow(gray_conversion)\n",
        "cv2.waitKey(0)\n",
        "cv2.destroyAllWindows()"
      ],
      "execution_count": null,
      "outputs": []
    },
    {
      "cell_type": "markdown",
      "metadata": {
        "id": "sRRjPDjyAnIG",
        "colab_type": "text"
      },
      "source": [
        "**Smoothing the image**"
      ]
    },
    {
      "cell_type": "code",
      "metadata": {
        "id": "KJfVKNfMAQRD",
        "colab_type": "code",
        "colab": {}
      },
      "source": [
        "import cv2\n",
        "import numpy as np\n",
        "from google.colab.patches import cv2_imshow\n",
        "\n",
        "image = cv2.imread('/gdrive/My Drive/VRA - Self Driving Cars/test_image.jpg', cv2.IMREAD_UNCHANGED)\n",
        "lanelines_image = np.copy(image)\n",
        "gray_conversion = cv2.cvtColor(lanelines_image, cv2.COLOR_RGB2GRAY)\n",
        "blur_conversion = cv2.GaussianBlur(gray_conversion, (5,5), 0)\n",
        "cv2_imshow(gray_conversion)\n",
        "cv2.waitKey(0)\n",
        "cv2.destroyAllWindows()"
      ],
      "execution_count": null,
      "outputs": []
    },
    {
      "cell_type": "markdown",
      "metadata": {
        "id": "t3t0LdDyBi_v",
        "colab_type": "text"
      },
      "source": [
        "**Canny edge detection**"
      ]
    },
    {
      "cell_type": "code",
      "metadata": {
        "id": "ruIoe2o1Biqj",
        "colab_type": "code",
        "colab": {}
      },
      "source": [
        "import cv2\n",
        "import numpy as np\n",
        "from google.colab.patches import cv2_imshow\n",
        "\n",
        "image = cv2.imread('/gdrive/My Drive/VRA - Self Driving Cars/test_image.jpg', cv2.IMREAD_UNCHANGED)\n",
        "lanelines_image = np.copy(image)\n",
        "gray_conversion = cv2.cvtColor(lanelines_image, cv2.COLOR_RGB2GRAY)\n",
        "blur_conversion = cv2.GaussianBlur(gray_conversion, (5,5), 0)\n",
        "canny_conversion = cv2.Canny(blur_conversion, 50, 155)\n",
        "cv2_imshow(canny_conversion)\n",
        "cv2.waitKey(0)\n",
        "cv2.destroyAllWindows()"
      ],
      "execution_count": null,
      "outputs": []
    },
    {
      "cell_type": "markdown",
      "metadata": {
        "id": "NO6Yn5LULd83",
        "colab_type": "text"
      },
      "source": [
        "**Masking the region of interest**"
      ]
    },
    {
      "cell_type": "code",
      "metadata": {
        "id": "ufCWQ9-PEc3x",
        "colab_type": "code",
        "colab": {}
      },
      "source": [
        "import cv2\n",
        "import numpy as np\n",
        "import matplotlib.pyplot as plt\n",
        "\n",
        "def canny_edge(image):\n",
        "  gray_conversion = cv2.cvtColor(image, cv2.COLOR_RGB2GRAY)\n",
        "  blur_conversion = cv2.GaussianBlur(gray_conversion, (5,5), 0)\n",
        "  canny_conversion = cv2.Canny(blur_conversion, 50, 150)\n",
        "  return canny_conversion\n",
        "\n",
        "def reg_of_interest(image):\n",
        "  Image_height = image.shape[0]\n",
        "  polygons = np.array([[(200, Image_height), (1100, Image_height), (550, 250)]])\n",
        "  image_mask = np.zeros_like(image)\n",
        "  cv2.fillPoly(image_mask, polygons, 255)\n",
        "  return image_mask\n",
        "\n",
        "image = cv2.imread('/gdrive/My Drive/VRA - Self Driving Cars/test_image.jpg', cv2.IMREAD_UNCHANGED)\n",
        "lanelines_image = np.copy(image)\n",
        "canny_conversion = canny_edge(lanelines_image)\n",
        "cv2_imshow(reg_of_interest(canny_conversion))\n",
        "cv2.waitKey(0)\n",
        "cv2.destroyAllWindows()"
      ],
      "execution_count": null,
      "outputs": []
    },
    {
      "cell_type": "markdown",
      "metadata": {
        "id": "TGnoGm5XLhB-",
        "colab_type": "text"
      },
      "source": [
        "**Applying bitwise_and**"
      ]
    },
    {
      "cell_type": "code",
      "metadata": {
        "id": "cgohSg9mLgYO",
        "colab_type": "code",
        "colab": {}
      },
      "source": [
        "import cv2\n",
        "import numpy as np\n",
        "import matplotlib.pyplot as plt\n",
        "\n",
        "def canny_edge(image):\n",
        "  gray_conversion = cv2.cvtColor(image, cv2.COLOR_RGB2GRAY)\n",
        "  blur_conversion = cv2.GaussianBlur(gray_conversion, (5,5), 0)\n",
        "  canny_conversion = cv2.Canny(blur_conversion, 50, 150)\n",
        "  return canny_conversion\n",
        "\n",
        "def reg_of_interest(image):\n",
        "  image_height = image.shape[0]\n",
        "  polygons = np.array([[(200, image_height), (1100, image_height), (551, 250)]])\n",
        "  image_mask = np.zeros_like(image)\n",
        "  cv2.fillPoly(image_mask, polygons, 255)\n",
        "  masking_image = cv2.bitwise_and(image, image_mask)\n",
        "  return masking_image\n",
        "\n",
        "image = cv2.imread('/gdrive/My Drive/VRA - Self Driving Cars/test_image.jpg', cv2.IMREAD_UNCHANGED)\n",
        "lanelines_image = np.copy(image)\n",
        "canny_conversion = canny_edge(lanelines_image)\n",
        "cropped_image = reg_of_interest(canny_conversion)\n",
        "cv2_imshow(cropped_image)\n",
        "cv2.waitKey(0)\n",
        "cv2.destroyAllWindows()"
      ],
      "execution_count": null,
      "outputs": []
    }
  ]
}