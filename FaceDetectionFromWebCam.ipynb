{
  "nbformat": 4,
  "nbformat_minor": 0,
  "metadata": {
    "colab": {
      "name": "FaceDetectionFromWebCam.ipynb",
      "provenance": [],
      "collapsed_sections": [],
      "authorship_tag": "ABX9TyMKgiAgXKd7Mv7hrUMhAXcX",
      "include_colab_link": true
    },
    "kernelspec": {
      "name": "python3",
      "display_name": "Python 3"
    }
  },
  "cells": [
    {
      "cell_type": "markdown",
      "metadata": {
        "id": "view-in-github",
        "colab_type": "text"
      },
      "source": [
        "<a href=\"https://colab.research.google.com/github/hantq2018/CS2225.CH1801.N014/blob/master/FaceDetectionFromWebCam.ipynb\" target=\"_parent\"><img src=\"https://colab.research.google.com/assets/colab-badge.svg\" alt=\"Open In Colab\"/></a>"
      ]
    },
    {
      "cell_type": "code",
      "metadata": {
        "id": "z9IBJ1Zck1eB",
        "colab_type": "code",
        "colab": {}
      },
      "source": [
        "from IPython.display import display, Javascript\n",
        "from google.colab.output import eval_js\n",
        "from base64 import b64decode\n",
        "\n",
        "def take_photo(filename='photo.jpg', quality=0.8):\n",
        "  js = Javascript('''\n",
        "    async function takePhoto(quality) {\n",
        "      const div = document.createElement('div');\n",
        "      const capture = document.createElement('button');\n",
        "      capture.textContent = 'Capture';\n",
        "      div.appendChild(capture);\n",
        "\n",
        "      const video = document.createElement('video');\n",
        "      video.style.display = 'block';\n",
        "      const stream = await navigator.mediaDevices.getUserMedia({video: true});\n",
        "\n",
        "      document.body.appendChild(div);\n",
        "      div.appendChild(video);\n",
        "      video.srcObject = stream;\n",
        "      await video.play();\n",
        "\n",
        "      // Resize the output to fit the video element.\n",
        "      google.colab.output.setIframeHeight(document.documentElement.scrollHeight, true);\n",
        "\n",
        "      // Wait for Capture to be clicked.\n",
        "      await new Promise((resolve) => capture.onclick = resolve);\n",
        "\n",
        "      const canvas = document.createElement('canvas');\n",
        "      canvas.width = video.videoWidth;\n",
        "      canvas.height = video.videoHeight;\n",
        "      canvas.getContext('2d').drawImage(video, 0, 0);\n",
        "      stream.getVideoTracks()[0].stop();\n",
        "      div.remove();\n",
        "      return canvas.toDataURL('image/jpeg', quality);\n",
        "    }\n",
        "    ''')\n",
        "  display(js)\n",
        "  data = eval_js('takePhoto({})'.format(quality))\n",
        "  binary = b64decode(data.split(',')[1])\n",
        "  with open(filename, 'wb') as f:\n",
        "    f.write(binary)\n",
        "  return filename"
      ],
      "execution_count": null,
      "outputs": []
    },
    {
      "cell_type": "code",
      "metadata": {
        "id": "8FhYqxjeld0o",
        "colab_type": "code",
        "colab": {
          "base_uri": "https://localhost:8080/",
          "height": 598
        },
        "outputId": "0c8afeb9-f1ed-40c6-95e2-903afd6aa768"
      },
      "source": [
        "!pip3 install imageai --upgrade\n",
        "!apt-get -qq install -y libsm6 libxext6 && pip install -q -U opencv-python\n",
        "import cv2\n",
        "!wget https://raw.githubusercontent.com/opencv/opencv/master/data/haarcascades/haarcascade_eye.xml -P drive/gaze\n",
        "\n",
        "!wget https://raw.githubusercontent.com/opencv/opencv/master/data/haarcascades/haarcascade_frontalface_default.xml -P drive/gaze"
      ],
      "execution_count": null,
      "outputs": [
        {
          "output_type": "stream",
          "text": [
            "Requirement already up-to-date: imageai in /usr/local/lib/python3.6/dist-packages (2.1.5)\n",
            "Requirement already satisfied, skipping upgrade: matplotlib in /usr/local/lib/python3.6/dist-packages (from imageai) (3.2.2)\n",
            "Requirement already satisfied, skipping upgrade: h5py in /usr/local/lib/python3.6/dist-packages (from imageai) (2.10.0)\n",
            "Requirement already satisfied, skipping upgrade: numpy in /usr/local/lib/python3.6/dist-packages (from imageai) (1.18.5)\n",
            "Requirement already satisfied, skipping upgrade: scipy in /usr/local/lib/python3.6/dist-packages (from imageai) (1.4.1)\n",
            "Requirement already satisfied, skipping upgrade: pillow in /usr/local/lib/python3.6/dist-packages (from imageai) (7.0.0)\n",
            "Requirement already satisfied, skipping upgrade: kiwisolver>=1.0.1 in /usr/local/lib/python3.6/dist-packages (from matplotlib->imageai) (1.2.0)\n",
            "Requirement already satisfied, skipping upgrade: cycler>=0.10 in /usr/local/lib/python3.6/dist-packages (from matplotlib->imageai) (0.10.0)\n",
            "Requirement already satisfied, skipping upgrade: python-dateutil>=2.1 in /usr/local/lib/python3.6/dist-packages (from matplotlib->imageai) (2.8.1)\n",
            "Requirement already satisfied, skipping upgrade: pyparsing!=2.0.4,!=2.1.2,!=2.1.6,>=2.0.1 in /usr/local/lib/python3.6/dist-packages (from matplotlib->imageai) (2.4.7)\n",
            "Requirement already satisfied, skipping upgrade: six in /usr/local/lib/python3.6/dist-packages (from h5py->imageai) (1.15.0)\n",
            "--2020-09-21 12:46:11--  https://raw.githubusercontent.com/opencv/opencv/master/data/haarcascades/haarcascade_eye.xml\n",
            "Resolving raw.githubusercontent.com (raw.githubusercontent.com)... 151.101.0.133, 151.101.64.133, 151.101.128.133, ...\n",
            "Connecting to raw.githubusercontent.com (raw.githubusercontent.com)|151.101.0.133|:443... connected.\n",
            "HTTP request sent, awaiting response... 200 OK\n",
            "Length: 341406 (333K) [text/plain]\n",
            "Saving to: ‘drive/gaze/haarcascade_eye.xml.2’\n",
            "\n",
            "haarcascade_eye.xml 100%[===================>] 333.40K  --.-KB/s    in 0.06s   \n",
            "\n",
            "2020-09-21 12:46:12 (5.17 MB/s) - ‘drive/gaze/haarcascade_eye.xml.2’ saved [341406/341406]\n",
            "\n",
            "--2020-09-21 12:46:12--  https://raw.githubusercontent.com/opencv/opencv/master/data/haarcascades/haarcascade_frontalface_default.xml\n",
            "Resolving raw.githubusercontent.com (raw.githubusercontent.com)... 151.101.0.133, 151.101.64.133, 151.101.128.133, ...\n",
            "Connecting to raw.githubusercontent.com (raw.githubusercontent.com)|151.101.0.133|:443... connected.\n",
            "HTTP request sent, awaiting response... 200 OK\n",
            "Length: 930127 (908K) [text/plain]\n",
            "Saving to: ‘drive/gaze/haarcascade_frontalface_default.xml.2’\n",
            "\n",
            "haarcascade_frontal 100%[===================>] 908.33K  --.-KB/s    in 0.1s    \n",
            "\n",
            "2020-09-21 12:46:12 (7.43 MB/s) - ‘drive/gaze/haarcascade_frontalface_default.xml.2’ saved [930127/930127]\n",
            "\n"
          ],
          "name": "stdout"
        }
      ]
    },
    {
      "cell_type": "code",
      "metadata": {
        "id": "78RcZTUKr7_1",
        "colab_type": "code",
        "colab": {}
      },
      "source": [
        "import time\n",
        "import os\n",
        "\n",
        "def download_image(image_url):\n",
        "    os.system('wget ' + image_url + ' -P drive/gaze')\n",
        "    file_path_parts = image_url.split('/')\n",
        "    return 'drive/gaze/' + file_path_parts[-1]\n",
        "\n",
        "def current_time():\n",
        "    return int(round(time.time() * 1000))\n",
        "\n",
        "def detect_eyes(face, img, gray):\n",
        "    [x,y,w,h] = face\n",
        "    roi_gray = gray[y:y+h, x:x+w]\n",
        "\n",
        "    eyes = eye_cascade.detectMultiScale(roi_gray)\n",
        "    eyes_sorted_by_size = sorted(eyes, key=lambda x: -x[2])\n",
        "    largest_eyes = eyes_sorted_by_size[:2]\n",
        "    # sort by x position\n",
        "    largest_eyes.sort(key=lambda x: x[0])\n",
        "    # offset by face start\n",
        "    return list(map(lambda eye: [face[0] + eye[0], face[1] + eye[1], eye[2], eye[3]], largest_eyes))\n",
        "\n",
        "def get_face_grid(face, frameW, frameH, gridSize):\n",
        "    faceX,faceY,faceW,faceH = face\n",
        "\n",
        "    return faceGridFromFaceRect(frameW, frameH, gridSize, gridSize, faceX, faceY, faceW, faceH, False)\n",
        "\n",
        "def extract_image_features(image_url):\n",
        "    #image_path = download_image(image_url)\n",
        "    img = cv2.imread(image_url)\n",
        "    start_ms = current_time()\n",
        "    gray = cv2.cvtColor(img, cv2.COLOR_BGR2GRAY)\n",
        "    face_detections = face_cascade.detectMultiScale(gray, 1.3, 5)\n",
        "    #  print('face detection took ' + str((current_time() - start_ms) / 1000.))\n",
        "\n",
        "    left_to_right_face_detections = sorted(face_detections, key=lambda detection: detection[0])\n",
        "\n",
        "    faces = []\n",
        "    face_features = []\n",
        "    for [x,y,w,h] in left_to_right_face_detections:\n",
        "        face = [x, y, w, h]\n",
        "        #  start_eyes = current_time()\n",
        "        eyes = detect_eyes(face, img, gray)\n",
        "        #  print('eye extraction '  + str((current_time() - start_eyes) / 1000.))\n",
        "        face_grid = get_face_grid(face, img.shape[1], img.shape[0], 25)\n",
        "\n",
        "        faces.append(face)\n",
        "        face_features.append([eyes, face_grid])\n",
        "\n",
        "    duration_ms = current_time() - start_ms\n",
        "    #  print(\"Face and eye extraction took: \", str(duration_ms / 1000) + \"s\")\n",
        "\n",
        "    return img, faces, face_features"
      ],
      "execution_count": null,
      "outputs": []
    },
    {
      "cell_type": "code",
      "metadata": {
        "id": "ORj2CfbAsBtY",
        "colab_type": "code",
        "colab": {}
      },
      "source": [
        "def faceGridFromFaceRect(frameW, frameH, gridW, gridH, labelFaceX, labelFaceY, labelFaceW, labelFaceH, parameterized):\n",
        "\n",
        "    scaleX = gridW / frameW\n",
        "    scaleY = gridH / frameH\n",
        "    \n",
        "    if parameterized:\n",
        "      labelFaceGrid = np.zeros(4)\n",
        "    else:\n",
        "      labelFaceGrid = np.zeros(gridW * gridH)\n",
        "    \n",
        "    grid = np.zeros((gridH, gridW))\n",
        "\n",
        "    # Use one-based image coordinates.\n",
        "    xLo = round(labelFaceX * scaleX)\n",
        "    yLo = round(labelFaceY * scaleY)\n",
        "    w = round(labelFaceW * scaleX)\n",
        "    h = round(labelFaceH * scaleY)\n",
        "\n",
        "    if parameterized:\n",
        "        labelFaceGrid = [xLo, yLo, w, h]\n",
        "    else:\n",
        "        xHi = xLo + w\n",
        "        yHi = yLo + h\n",
        "\n",
        "        # Clamp the values in the range.\n",
        "        xLo = int(min(gridW, max(0, xLo)))\n",
        "        xHi = int(min(gridW, max(0, xHi)))\n",
        "        yLo = int(min(gridH, max(0, yLo)))\n",
        "        yHi = int(min(gridH, max(0, yHi)))\n",
        "\n",
        "        faceLocation = np.ones((yHi - yLo, xHi - xLo))\n",
        "        grid[yLo:yHi, xLo:xHi] = faceLocation\n",
        "\n",
        "        # Flatten the grid.\n",
        "        grid = np.transpose(grid)\n",
        "        labelFaceGrid = grid.flatten()\n",
        "        \n",
        "    return labelFaceGrid"
      ],
      "execution_count": null,
      "outputs": []
    },
    {
      "cell_type": "code",
      "metadata": {
        "id": "q_IBtNVKsD8c",
        "colab_type": "code",
        "colab": {}
      },
      "source": [
        "def set_title_and_hide_axis(title):\n",
        "    plt.title(title)\n",
        "    plt.axes().get_xaxis().set_visible(False)\n",
        "    plt.axes().get_yaxis().set_visible(False)\n",
        "\n",
        "def render_face_grid(face_grid):\n",
        "    to_print = np.copy(face_grid)\n",
        "    result_image = np.copy(to_print).reshape(25, 25).transpose()\n",
        "    plt.figure()\n",
        "    set_title_and_hide_axis('Face grid')\n",
        "    plt.imshow(result_image)\n",
        "\n",
        "def show_extraction_results(img, faces, face_features):\n",
        "    plt.figure(figsize=(10,10))\n",
        "    plt.imshow(cv2.cvtColor(img, cv2.COLOR_BGR2RGB), interpolation=\"bicubic\")\n",
        "\n",
        "    for i, face in enumerate(faces):\n",
        "        print('Face #' + str(i))\n",
        "        eyes, face_grid = face_features[i]\n",
        "        [x, y, w, h] = face\n",
        "        set_title_and_hide_axis('Extracted face image')\n",
        "        cv2.rectangle(img,(x,y),(x+w,y+h),(255,0,0),2)\n",
        "\n",
        "        for [ex,ey,ew,eh] in eyes:\n",
        "            cv2.rectangle(img,(ex,ey),(ex+ew,ey+eh),(0,255,0),2)\n",
        "        \n",
        "        plt.figure()\n",
        "        render_face_grid(face_grid)"
      ],
      "execution_count": null,
      "outputs": []
    },
    {
      "cell_type": "code",
      "metadata": {
        "id": "4FPbx0S_sOqZ",
        "colab_type": "code",
        "colab": {
          "base_uri": "https://localhost:8080/",
          "height": 514
        },
        "outputId": "7f95d309-d6e5-453d-ffab-53b22eb49330"
      },
      "source": [
        "from IPython.display import Image\n",
        "try:\n",
        "  filename = take_photo()\n",
        "  print('Saved to {}'.format(filename))\n",
        "  \n",
        "  # Show the image which was just taken.\n",
        "  display(Image(filename))\n",
        "except Exception as err:\n",
        "  # Errors will be thrown if the user does not have a webcam or if they do not\n",
        "  # grant the page permission to access it.\n",
        "  print(str(err))"
      ],
      "execution_count": null,
      "outputs": [
        {
          "output_type": "display_data",
          "data": {
            "application/javascript": [
              "\n",
              "    async function takePhoto(quality) {\n",
              "      const div = document.createElement('div');\n",
              "      const capture = document.createElement('button');\n",
              "      capture.textContent = 'Capture';\n",
              "      div.appendChild(capture);\n",
              "\n",
              "      const video = document.createElement('video');\n",
              "      video.style.display = 'block';\n",
              "      const stream = await navigator.mediaDevices.getUserMedia({video: true});\n",
              "\n",
              "      document.body.appendChild(div);\n",
              "      div.appendChild(video);\n",
              "      video.srcObject = stream;\n",
              "      await video.play();\n",
              "\n",
              "      // Resize the output to fit the video element.\n",
              "      google.colab.output.setIframeHeight(document.documentElement.scrollHeight, true);\n",
              "\n",
              "      // Wait for Capture to be clicked.\n",
              "      await new Promise((resolve) => capture.onclick = resolve);\n",
              "\n",
              "      const canvas = document.createElement('canvas');\n",
              "      canvas.width = video.videoWidth;\n",
              "      canvas.height = video.videoHeight;\n",
              "      canvas.getContext('2d').drawImage(video, 0, 0);\n",
              "      stream.getVideoTracks()[0].stop();\n",
              "      div.remove();\n",
              "      return canvas.toDataURL('image/jpeg', quality);\n",
              "    }\n",
              "    "
            ],
            "text/plain": [
              "<IPython.core.display.Javascript object>"
            ]
          },
          "metadata": {
            "tags": []
          }
        },
        {
          "output_type": "stream",
          "text": [
            "Saved to photo.jpg\n"
          ],
          "name": "stdout"
        },
        {
          "output_type": "display_data",
          "data": {
            "image/jpeg": "[encoded data removed]",
            "text/plain": [
              "<IPython.core.display.Image object>"
            ]
          },
          "metadata": {
            "tags": []
          }
        }
      ]
    },
    {
      "cell_type": "code",
      "metadata": {
        "id": "53_5qBGqsGwU",
        "colab_type": "code",
        "colab": {
          "base_uri": "https://localhost:8080/",
          "height": 282
        },
        "outputId": "c4e8759d-624f-4c69-d72d-6fb42b99943d"
      },
      "source": [
        "img, faces, face_features = extract_image_features('photo.jpg')"
      ],
      "execution_count": null,
      "outputs": [
        {
          "output_type": "error",
          "ename": "NameError",
          "evalue": "ignored",
          "traceback": [
            "\u001b[0;31m---------------------------------------------------------------------------\u001b[0m",
            "\u001b[0;31mNameError\u001b[0m                                 Traceback (most recent call last)",
            "\u001b[0;32m<ipython-input-19-33da7dd40f42>\u001b[0m in \u001b[0;36m<module>\u001b[0;34m()\u001b[0m\n\u001b[0;32m----> 1\u001b[0;31m \u001b[0mimg\u001b[0m\u001b[0;34m,\u001b[0m \u001b[0mfaces\u001b[0m\u001b[0;34m,\u001b[0m \u001b[0mface_features\u001b[0m \u001b[0;34m=\u001b[0m \u001b[0mextract_image_features\u001b[0m\u001b[0;34m(\u001b[0m\u001b[0;34m'photo.jpg'\u001b[0m\u001b[0;34m)\u001b[0m\u001b[0;34m\u001b[0m\u001b[0;34m\u001b[0m\u001b[0m\n\u001b[0m",
            "\u001b[0;32m<ipython-input-15-f915a3ea69e0>\u001b[0m in \u001b[0;36mextract_image_features\u001b[0;34m(image_url)\u001b[0m\n\u001b[1;32m     29\u001b[0m \u001b[0;32mdef\u001b[0m \u001b[0mextract_image_features\u001b[0m\u001b[0;34m(\u001b[0m\u001b[0mimage_url\u001b[0m\u001b[0;34m)\u001b[0m\u001b[0;34m:\u001b[0m\u001b[0;34m\u001b[0m\u001b[0;34m\u001b[0m\u001b[0m\n\u001b[1;32m     30\u001b[0m     \u001b[0;31m#image_path = download_image(image_url)\u001b[0m\u001b[0;34m\u001b[0m\u001b[0;34m\u001b[0m\u001b[0;34m\u001b[0m\u001b[0m\n\u001b[0;32m---> 31\u001b[0;31m     \u001b[0mimg\u001b[0m \u001b[0;34m=\u001b[0m \u001b[0mcv2\u001b[0m\u001b[0;34m.\u001b[0m\u001b[0mimread\u001b[0m\u001b[0;34m(\u001b[0m\u001b[0mimage_path\u001b[0m\u001b[0;34m)\u001b[0m\u001b[0;34m\u001b[0m\u001b[0;34m\u001b[0m\u001b[0m\n\u001b[0m\u001b[1;32m     32\u001b[0m     \u001b[0mstart_ms\u001b[0m \u001b[0;34m=\u001b[0m \u001b[0mcurrent_time\u001b[0m\u001b[0;34m(\u001b[0m\u001b[0;34m)\u001b[0m\u001b[0;34m\u001b[0m\u001b[0;34m\u001b[0m\u001b[0m\n\u001b[1;32m     33\u001b[0m     \u001b[0mgray\u001b[0m \u001b[0;34m=\u001b[0m \u001b[0mcv2\u001b[0m\u001b[0;34m.\u001b[0m\u001b[0mcvtColor\u001b[0m\u001b[0;34m(\u001b[0m\u001b[0mimg\u001b[0m\u001b[0;34m,\u001b[0m \u001b[0mcv2\u001b[0m\u001b[0;34m.\u001b[0m\u001b[0mCOLOR_BGR2GRAY\u001b[0m\u001b[0;34m)\u001b[0m\u001b[0;34m\u001b[0m\u001b[0;34m\u001b[0m\u001b[0m\n",
            "\u001b[0;31mNameError\u001b[0m: name 'image_path' is not defined"
          ]
        }
      ]
    },
    {
      "cell_type": "code",
      "metadata": {
        "id": "oR8EHE5ssIPP",
        "colab_type": "code",
        "colab": {}
      },
      "source": [
        "show_extraction_results(img, faces, face_features)"
      ],
      "execution_count": null,
      "outputs": []
    },
    {
      "cell_type": "code",
      "metadata": {
        "id": "AqLtkavPst9V",
        "colab_type": "code",
        "colab": {}
      },
      "source": [
        ""
      ],
      "execution_count": null,
      "outputs": []
    }
  ]
}